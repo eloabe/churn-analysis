{
 "cells": [
  {
   "cell_type": "markdown",
   "id": "8bd2fded",
   "metadata": {},
   "source": [
    "# Trabalho final - Introdução à Ciência de Dados\n",
    "\n",
    "Nesse trabalho, foi solicitado que seja utilizada a metodologia OSEMN(Obtain, Scrub, Explore, Model and iNterpret) para tratar a base de dados da competição do Kaggle Telco Costumer Churn e obter insights sobre ela. "
   ]
  },
  {
   "cell_type": "markdown",
   "id": "f57bf607",
   "metadata": {},
   "source": [
    "## Etapa 0 - Importação de bibliotecas e funções auxiliares"
   ]
  },
  {
   "cell_type": "code",
   "execution_count": 83,
   "id": "7a150ffa",
   "metadata": {},
   "outputs": [],
   "source": [
    "import os\n",
    "import warnings\n",
    "import numpy as np\n",
    "import pandas as pd\n",
    "import seaborn as sns\n",
    "import matplotlib.pyplot as plt\n",
    "\n",
    "from scipy.stats import skew, kurtosis\n",
    "\n",
    "warnings.filterwarnings('ignore')\n",
    "sns.set_style('ticks')\n",
    "%matplotlib inline"
   ]
  },
  {
   "cell_type": "markdown",
   "id": "a72cb567",
   "metadata": {},
   "source": [
    "## Etapa 1 - Obtain/Obtenção"
   ]
  },
  {
   "cell_type": "markdown",
   "id": "1f6e61df",
   "metadata": {},
   "source": [
    "Nesse caso em específico, a obtenção é simples, pois basta carregar a base de dados já fornecida na competição. Em contextos reais, é comum precisar realizar *web scraping*, que consiste em uma raspagem/coleta dos dados brutos diretamente de algum site. ou outra fonte"
   ]
  },
  {
   "cell_type": "code",
   "execution_count": 17,
   "id": "4614e780",
   "metadata": {},
   "outputs": [],
   "source": [
    "# Pegando o caminho absoluto dos dados\n",
    "ROOT_DIR = os.path.abspath(os.curdir)\n",
    "DATA_DIR = ROOT_DIR + '\\data\\churn.csv'\n",
    "\n",
    "df = pd.read_csv(DATA_DIR)"
   ]
  },
  {
   "cell_type": "code",
   "execution_count": 18,
   "id": "a0f00e58",
   "metadata": {},
   "outputs": [
    {
     "data": {
      "text/html": [
       "<div>\n",
       "<style scoped>\n",
       "    .dataframe tbody tr th:only-of-type {\n",
       "        vertical-align: middle;\n",
       "    }\n",
       "\n",
       "    .dataframe tbody tr th {\n",
       "        vertical-align: top;\n",
       "    }\n",
       "\n",
       "    .dataframe thead th {\n",
       "        text-align: right;\n",
       "    }\n",
       "</style>\n",
       "<table border=\"1\" class=\"dataframe\">\n",
       "  <thead>\n",
       "    <tr style=\"text-align: right;\">\n",
       "      <th></th>\n",
       "      <th>customerID</th>\n",
       "      <th>gender</th>\n",
       "      <th>SeniorCitizen</th>\n",
       "      <th>Partner</th>\n",
       "      <th>Dependents</th>\n",
       "      <th>tenure</th>\n",
       "      <th>PhoneService</th>\n",
       "      <th>MultipleLines</th>\n",
       "      <th>InternetService</th>\n",
       "      <th>OnlineSecurity</th>\n",
       "      <th>...</th>\n",
       "      <th>DeviceProtection</th>\n",
       "      <th>TechSupport</th>\n",
       "      <th>StreamingTV</th>\n",
       "      <th>StreamingMovies</th>\n",
       "      <th>Contract</th>\n",
       "      <th>PaperlessBilling</th>\n",
       "      <th>PaymentMethod</th>\n",
       "      <th>MonthlyCharges</th>\n",
       "      <th>TotalCharges</th>\n",
       "      <th>Churn</th>\n",
       "    </tr>\n",
       "  </thead>\n",
       "  <tbody>\n",
       "    <tr>\n",
       "      <th>0</th>\n",
       "      <td>7590-VHVEG</td>\n",
       "      <td>Female</td>\n",
       "      <td>0</td>\n",
       "      <td>Yes</td>\n",
       "      <td>No</td>\n",
       "      <td>1</td>\n",
       "      <td>No</td>\n",
       "      <td>No phone service</td>\n",
       "      <td>DSL</td>\n",
       "      <td>No</td>\n",
       "      <td>...</td>\n",
       "      <td>No</td>\n",
       "      <td>No</td>\n",
       "      <td>No</td>\n",
       "      <td>No</td>\n",
       "      <td>Month-to-month</td>\n",
       "      <td>Yes</td>\n",
       "      <td>Electronic check</td>\n",
       "      <td>29.85</td>\n",
       "      <td>29.85</td>\n",
       "      <td>No</td>\n",
       "    </tr>\n",
       "    <tr>\n",
       "      <th>1</th>\n",
       "      <td>5575-GNVDE</td>\n",
       "      <td>Male</td>\n",
       "      <td>0</td>\n",
       "      <td>No</td>\n",
       "      <td>No</td>\n",
       "      <td>34</td>\n",
       "      <td>Yes</td>\n",
       "      <td>No</td>\n",
       "      <td>DSL</td>\n",
       "      <td>Yes</td>\n",
       "      <td>...</td>\n",
       "      <td>Yes</td>\n",
       "      <td>No</td>\n",
       "      <td>No</td>\n",
       "      <td>No</td>\n",
       "      <td>One year</td>\n",
       "      <td>No</td>\n",
       "      <td>Mailed check</td>\n",
       "      <td>56.95</td>\n",
       "      <td>1889.5</td>\n",
       "      <td>No</td>\n",
       "    </tr>\n",
       "    <tr>\n",
       "      <th>2</th>\n",
       "      <td>3668-QPYBK</td>\n",
       "      <td>Male</td>\n",
       "      <td>0</td>\n",
       "      <td>No</td>\n",
       "      <td>No</td>\n",
       "      <td>2</td>\n",
       "      <td>Yes</td>\n",
       "      <td>No</td>\n",
       "      <td>DSL</td>\n",
       "      <td>Yes</td>\n",
       "      <td>...</td>\n",
       "      <td>No</td>\n",
       "      <td>No</td>\n",
       "      <td>No</td>\n",
       "      <td>No</td>\n",
       "      <td>Month-to-month</td>\n",
       "      <td>Yes</td>\n",
       "      <td>Mailed check</td>\n",
       "      <td>53.85</td>\n",
       "      <td>108.15</td>\n",
       "      <td>Yes</td>\n",
       "    </tr>\n",
       "    <tr>\n",
       "      <th>3</th>\n",
       "      <td>7795-CFOCW</td>\n",
       "      <td>Male</td>\n",
       "      <td>0</td>\n",
       "      <td>No</td>\n",
       "      <td>No</td>\n",
       "      <td>45</td>\n",
       "      <td>No</td>\n",
       "      <td>No phone service</td>\n",
       "      <td>DSL</td>\n",
       "      <td>Yes</td>\n",
       "      <td>...</td>\n",
       "      <td>Yes</td>\n",
       "      <td>Yes</td>\n",
       "      <td>No</td>\n",
       "      <td>No</td>\n",
       "      <td>One year</td>\n",
       "      <td>No</td>\n",
       "      <td>Bank transfer (automatic)</td>\n",
       "      <td>42.30</td>\n",
       "      <td>1840.75</td>\n",
       "      <td>No</td>\n",
       "    </tr>\n",
       "    <tr>\n",
       "      <th>4</th>\n",
       "      <td>9237-HQITU</td>\n",
       "      <td>Female</td>\n",
       "      <td>0</td>\n",
       "      <td>No</td>\n",
       "      <td>No</td>\n",
       "      <td>2</td>\n",
       "      <td>Yes</td>\n",
       "      <td>No</td>\n",
       "      <td>Fiber optic</td>\n",
       "      <td>No</td>\n",
       "      <td>...</td>\n",
       "      <td>No</td>\n",
       "      <td>No</td>\n",
       "      <td>No</td>\n",
       "      <td>No</td>\n",
       "      <td>Month-to-month</td>\n",
       "      <td>Yes</td>\n",
       "      <td>Electronic check</td>\n",
       "      <td>70.70</td>\n",
       "      <td>151.65</td>\n",
       "      <td>Yes</td>\n",
       "    </tr>\n",
       "  </tbody>\n",
       "</table>\n",
       "<p>5 rows × 21 columns</p>\n",
       "</div>"
      ],
      "text/plain": [
       "   customerID  gender  SeniorCitizen Partner Dependents  tenure PhoneService  \\\n",
       "0  7590-VHVEG  Female              0     Yes         No       1           No   \n",
       "1  5575-GNVDE    Male              0      No         No      34          Yes   \n",
       "2  3668-QPYBK    Male              0      No         No       2          Yes   \n",
       "3  7795-CFOCW    Male              0      No         No      45           No   \n",
       "4  9237-HQITU  Female              0      No         No       2          Yes   \n",
       "\n",
       "      MultipleLines InternetService OnlineSecurity  ... DeviceProtection  \\\n",
       "0  No phone service             DSL             No  ...               No   \n",
       "1                No             DSL            Yes  ...              Yes   \n",
       "2                No             DSL            Yes  ...               No   \n",
       "3  No phone service             DSL            Yes  ...              Yes   \n",
       "4                No     Fiber optic             No  ...               No   \n",
       "\n",
       "  TechSupport StreamingTV StreamingMovies        Contract PaperlessBilling  \\\n",
       "0          No          No              No  Month-to-month              Yes   \n",
       "1          No          No              No        One year               No   \n",
       "2          No          No              No  Month-to-month              Yes   \n",
       "3         Yes          No              No        One year               No   \n",
       "4          No          No              No  Month-to-month              Yes   \n",
       "\n",
       "               PaymentMethod MonthlyCharges  TotalCharges Churn  \n",
       "0           Electronic check          29.85         29.85    No  \n",
       "1               Mailed check          56.95        1889.5    No  \n",
       "2               Mailed check          53.85        108.15   Yes  \n",
       "3  Bank transfer (automatic)          42.30       1840.75    No  \n",
       "4           Electronic check          70.70        151.65   Yes  \n",
       "\n",
       "[5 rows x 21 columns]"
      ]
     },
     "execution_count": 18,
     "metadata": {},
     "output_type": "execute_result"
    }
   ],
   "source": [
    "# Visão geral da base de dados\n",
    "df.head()"
   ]
  },
  {
   "cell_type": "markdown",
   "id": "4f8b6c36",
   "metadata": {},
   "source": [
    "## Etapa 2 - Scrub/Limpeza"
   ]
  },
  {
   "cell_type": "code",
   "execution_count": 20,
   "id": "0ca9817b",
   "metadata": {},
   "outputs": [
    {
     "name": "stdout",
     "output_type": "stream",
     "text": [
      "<class 'pandas.core.frame.DataFrame'>\n",
      "RangeIndex: 7043 entries, 0 to 7042\n",
      "Data columns (total 21 columns):\n",
      " #   Column            Non-Null Count  Dtype  \n",
      "---  ------            --------------  -----  \n",
      " 0   customerID        7043 non-null   object \n",
      " 1   gender            7043 non-null   object \n",
      " 2   SeniorCitizen     7043 non-null   int64  \n",
      " 3   Partner           7043 non-null   object \n",
      " 4   Dependents        7043 non-null   object \n",
      " 5   tenure            7043 non-null   int64  \n",
      " 6   PhoneService      7043 non-null   object \n",
      " 7   MultipleLines     7043 non-null   object \n",
      " 8   InternetService   7043 non-null   object \n",
      " 9   OnlineSecurity    7043 non-null   object \n",
      " 10  OnlineBackup      7043 non-null   object \n",
      " 11  DeviceProtection  7043 non-null   object \n",
      " 12  TechSupport       7043 non-null   object \n",
      " 13  StreamingTV       7043 non-null   object \n",
      " 14  StreamingMovies   7043 non-null   object \n",
      " 15  Contract          7043 non-null   object \n",
      " 16  PaperlessBilling  7043 non-null   object \n",
      " 17  PaymentMethod     7043 non-null   object \n",
      " 18  MonthlyCharges    7043 non-null   float64\n",
      " 19  TotalCharges      7043 non-null   object \n",
      " 20  Churn             7043 non-null   object \n",
      "dtypes: float64(1), int64(2), object(18)\n",
      "memory usage: 1.1+ MB\n"
     ]
    }
   ],
   "source": [
    "# Visão geral sobre os tipos de dados de cada coluna\n",
    "df.info()"
   ]
  },
  {
   "cell_type": "markdown",
   "id": "498abc4c",
   "metadata": {},
   "source": [
    "Aqui, já podemos observar alguns pontos que merecem uma atenção:\n",
    "\n",
    "1. A coluna 'SeniorCitizen' apresenta tipo **int64**. Apesar de ser marcada com 1 e 0, é uma variável categórica.\n",
    "2. A coluna 'TotalCharges' apresenta tipo **object**, geralmente utilizado para *strings*, mas é uma variável numérica.\n",
    "\n",
    "Vamos investigar esses problemas."
   ]
  },
  {
   "cell_type": "markdown",
   "id": "247f9b52",
   "metadata": {},
   "source": [
    "Em primeira instância, podemos excluir a coluna de identificação do usuário, que não irá nos trazer informação relevante para esse problema."
   ]
  },
  {
   "cell_type": "code",
   "execution_count": 21,
   "id": "88f223ad",
   "metadata": {},
   "outputs": [],
   "source": [
    "df.drop('customerID', axis=1, inplace=True)"
   ]
  },
  {
   "cell_type": "code",
   "execution_count": 22,
   "id": "d4899c6d",
   "metadata": {},
   "outputs": [],
   "source": [
    "#Mudando o tipo de dados da coluna SeniorCitizen\n",
    "df['SeniorCitizen'] = df['SeniorCitizen'].astype('object')"
   ]
  },
  {
   "cell_type": "code",
   "execution_count": 23,
   "id": "c7225f86",
   "metadata": {},
   "outputs": [
    {
     "data": {
      "text/plain": [
       "          11\n",
       "20.2      11\n",
       "19.75      9\n",
       "20.05      8\n",
       "19.9       8\n",
       "          ..\n",
       "6849.4     1\n",
       "692.35     1\n",
       "130.15     1\n",
       "3211.9     1\n",
       "6844.5     1\n",
       "Name: TotalCharges, Length: 6531, dtype: int64"
      ]
     },
     "execution_count": 23,
     "metadata": {},
     "output_type": "execute_result"
    }
   ],
   "source": [
    "#investigando os valores presentes na coluna TotalCharges\n",
    "df['TotalCharges'].value_counts()"
   ]
  },
  {
   "cell_type": "markdown",
   "id": "fe0f3804",
   "metadata": {},
   "source": [
    "Como podemos ver, existem 11 registros com o caractere vazio ' '. \n",
    "\n",
    "Isso é um ocorrido comum em problemas reais. Nem sempre um dado faltante está representado como o tipo NaN, que seria o ideal. Podemos encontrá-lo como um caractere como '-', '.', '?', e outros, por isso é importante se atentar a esses detalhes."
   ]
  },
  {
   "cell_type": "code",
   "execution_count": 24,
   "id": "697ad81e",
   "metadata": {},
   "outputs": [],
   "source": [
    "#substituindo o caractere ' '(vazio) pelo tipo Not a Number do python e transformando a coluna para o tipo esperado.\n",
    "df['TotalCharges'] = df['TotalCharges'].replace(' ', np.NaN).astype('float64')"
   ]
  },
  {
   "cell_type": "markdown",
   "id": "919460fe",
   "metadata": {},
   "source": [
    "Uma boa prática também é checar se há registros duplicados na base."
   ]
  },
  {
   "cell_type": "code",
   "execution_count": 25,
   "id": "8efbd03e",
   "metadata": {
    "scrolled": true
   },
   "outputs": [
    {
     "name": "stdout",
     "output_type": "stream",
     "text": [
      "Há 22 registros duplicados na base\n"
     ]
    }
   ],
   "source": [
    "print(f'Há {sum(df.duplicated())} registros duplicados na base')"
   ]
  },
  {
   "cell_type": "markdown",
   "id": "48d98290",
   "metadata": {},
   "source": [
    "Como representam uma quantidade pequena, também iremos exclui-los."
   ]
  },
  {
   "cell_type": "code",
   "execution_count": 26,
   "id": "8be4c3d3",
   "metadata": {},
   "outputs": [],
   "source": [
    "df.drop_duplicates(inplace=True)"
   ]
  },
  {
   "cell_type": "markdown",
   "id": "0d6197ff",
   "metadata": {},
   "source": [
    "Por fim, iremos tratar os dados faltantes encontrados. Como a quantidade de dados faltantes representa aproximadamente $\\frac{11}{7043}$ = 0,1% da nossa base, optamos por excluí-los."
   ]
  },
  {
   "cell_type": "code",
   "execution_count": 27,
   "id": "1202c727",
   "metadata": {},
   "outputs": [],
   "source": [
    "df.dropna(inplace=True)"
   ]
  },
  {
   "cell_type": "markdown",
   "id": "fe5257b5",
   "metadata": {},
   "source": [
    "Agora, checamos novamente a informação geral dos dados para verificar se os problemas encontrados foram corrigidos."
   ]
  },
  {
   "cell_type": "code",
   "execution_count": 28,
   "id": "25a3338d",
   "metadata": {},
   "outputs": [
    {
     "name": "stdout",
     "output_type": "stream",
     "text": [
      "<class 'pandas.core.frame.DataFrame'>\n",
      "Int64Index: 7010 entries, 0 to 7042\n",
      "Data columns (total 20 columns):\n",
      " #   Column            Non-Null Count  Dtype  \n",
      "---  ------            --------------  -----  \n",
      " 0   gender            7010 non-null   object \n",
      " 1   SeniorCitizen     7010 non-null   object \n",
      " 2   Partner           7010 non-null   object \n",
      " 3   Dependents        7010 non-null   object \n",
      " 4   tenure            7010 non-null   int64  \n",
      " 5   PhoneService      7010 non-null   object \n",
      " 6   MultipleLines     7010 non-null   object \n",
      " 7   InternetService   7010 non-null   object \n",
      " 8   OnlineSecurity    7010 non-null   object \n",
      " 9   OnlineBackup      7010 non-null   object \n",
      " 10  DeviceProtection  7010 non-null   object \n",
      " 11  TechSupport       7010 non-null   object \n",
      " 12  StreamingTV       7010 non-null   object \n",
      " 13  StreamingMovies   7010 non-null   object \n",
      " 14  Contract          7010 non-null   object \n",
      " 15  PaperlessBilling  7010 non-null   object \n",
      " 16  PaymentMethod     7010 non-null   object \n",
      " 17  MonthlyCharges    7010 non-null   float64\n",
      " 18  TotalCharges      7010 non-null   float64\n",
      " 19  Churn             7010 non-null   object \n",
      "dtypes: float64(2), int64(1), object(17)\n",
      "memory usage: 1.1+ MB\n"
     ]
    }
   ],
   "source": [
    "df.info()"
   ]
  },
  {
   "cell_type": "markdown",
   "id": "12ec8e56",
   "metadata": {},
   "source": [
    "Podemos ver que foram excluídos os registros com dados faltantes e os tipos de dados também foram corrigidos. Como não foram encontradas mais inconsistências na base de dados, podemos prosseguir para a próxima etapa."
   ]
  },
  {
   "cell_type": "markdown",
   "id": "69b4bd99",
   "metadata": {},
   "source": [
    "## Etapa 3 - Explore/Exploração"
   ]
  },
  {
   "cell_type": "markdown",
   "id": "542556b3",
   "metadata": {},
   "source": [
    "Na etapa de exploração, são realizadas verificações estatísticas sobre os dados para que haja a formulação de hipóteses sobre eles."
   ]
  },
  {
   "cell_type": "code",
   "execution_count": 14,
   "id": "b205da1b",
   "metadata": {},
   "outputs": [],
   "source": [
    "#variáveis numéricas\n",
    "numericas = df.select_dtypes(include = np.number).columns.tolist()\n",
    "\n",
    "#variáveis categóricas, excluindo a coluna target do nosso problema\n",
    "categoricas = df.drop('Churn', axis = 1).select_dtypes(include = object).columns.tolist()"
   ]
  },
  {
   "cell_type": "markdown",
   "id": "0ec936d7",
   "metadata": {},
   "source": [
    "### 3.1. Variáveis numéricas"
   ]
  },
  {
   "cell_type": "code",
   "execution_count": 59,
   "id": "7a63642d",
   "metadata": {},
   "outputs": [
    {
     "data": {
      "text/html": [
       "<div>\n",
       "<style scoped>\n",
       "    .dataframe tbody tr th:only-of-type {\n",
       "        vertical-align: middle;\n",
       "    }\n",
       "\n",
       "    .dataframe tbody tr th {\n",
       "        vertical-align: top;\n",
       "    }\n",
       "\n",
       "    .dataframe thead th {\n",
       "        text-align: right;\n",
       "    }\n",
       "</style>\n",
       "<table border=\"1\" class=\"dataframe\">\n",
       "  <thead>\n",
       "    <tr style=\"text-align: right;\">\n",
       "      <th></th>\n",
       "      <th>tenure</th>\n",
       "      <th>MonthlyCharges</th>\n",
       "      <th>TotalCharges</th>\n",
       "    </tr>\n",
       "  </thead>\n",
       "  <tbody>\n",
       "    <tr>\n",
       "      <th>count</th>\n",
       "      <td>7010.000000</td>\n",
       "      <td>7010.000000</td>\n",
       "      <td>7010.000000</td>\n",
       "    </tr>\n",
       "    <tr>\n",
       "      <th>mean</th>\n",
       "      <td>32.520399</td>\n",
       "      <td>64.888666</td>\n",
       "      <td>2290.353388</td>\n",
       "    </tr>\n",
       "    <tr>\n",
       "      <th>std</th>\n",
       "      <td>24.520441</td>\n",
       "      <td>30.064769</td>\n",
       "      <td>2266.820832</td>\n",
       "    </tr>\n",
       "    <tr>\n",
       "      <th>min</th>\n",
       "      <td>1.000000</td>\n",
       "      <td>18.250000</td>\n",
       "      <td>18.800000</td>\n",
       "    </tr>\n",
       "    <tr>\n",
       "      <th>25%</th>\n",
       "      <td>9.000000</td>\n",
       "      <td>35.750000</td>\n",
       "      <td>408.312500</td>\n",
       "    </tr>\n",
       "    <tr>\n",
       "      <th>50%</th>\n",
       "      <td>29.000000</td>\n",
       "      <td>70.400000</td>\n",
       "      <td>1403.875000</td>\n",
       "    </tr>\n",
       "    <tr>\n",
       "      <th>75%</th>\n",
       "      <td>56.000000</td>\n",
       "      <td>89.900000</td>\n",
       "      <td>3807.837500</td>\n",
       "    </tr>\n",
       "    <tr>\n",
       "      <th>max</th>\n",
       "      <td>72.000000</td>\n",
       "      <td>118.750000</td>\n",
       "      <td>8684.800000</td>\n",
       "    </tr>\n",
       "    <tr>\n",
       "      <th>skewness</th>\n",
       "      <td>0.233690</td>\n",
       "      <td>-0.225638</td>\n",
       "      <td>0.958117</td>\n",
       "    </tr>\n",
       "    <tr>\n",
       "      <th>kurtosis</th>\n",
       "      <td>-1.388391</td>\n",
       "      <td>-1.252806</td>\n",
       "      <td>-0.239059</td>\n",
       "    </tr>\n",
       "  </tbody>\n",
       "</table>\n",
       "</div>"
      ],
      "text/plain": [
       "               tenure  MonthlyCharges  TotalCharges\n",
       "count     7010.000000     7010.000000   7010.000000\n",
       "mean        32.520399       64.888666   2290.353388\n",
       "std         24.520441       30.064769   2266.820832\n",
       "min          1.000000       18.250000     18.800000\n",
       "25%          9.000000       35.750000    408.312500\n",
       "50%         29.000000       70.400000   1403.875000\n",
       "75%         56.000000       89.900000   3807.837500\n",
       "max         72.000000      118.750000   8684.800000\n",
       "skewness     0.233690       -0.225638      0.958117\n",
       "kurtosis    -1.388391       -1.252806     -0.239059"
      ]
     },
     "execution_count": 59,
     "metadata": {},
     "output_type": "execute_result"
    }
   ],
   "source": [
    "# Visão geral de estatísticas básicas sobre os dados\n",
    "stats = df[numericas].describe(include='all')\n",
    "stats.loc['skewness'] = skew(df[numericas])\n",
    "stats.loc['kurtosis'] = kurtosis(df[numericas])\n",
    "\n",
    "stats"
   ]
  },
  {
   "cell_type": "markdown",
   "id": "210bf0bf",
   "metadata": {},
   "source": [
    "Através das estatísticas _skewness_ (assimetria) e _kurtosis_ (curtose) podemos chegar às seguintes conclusões:\n",
    "\n",
    "**Sobre assimetria**:\n",
    "- As variáveis tenure e TotalCharges apresentam uma assimetria **positiva**, ou seja, os dados estão um pouco mais concentrados **abaixo** da média, mas em TotalCharges isso é mais acentuado..\n",
    "- A variável MonthlyCharges apresenta uma assimetria **negativa**, ou seja, os dados estão um pouco mais concentrados **acima** da média.\n",
    "\n",
    "**Sobre curtose**:\n",
    "- Ambas as variáveis apresentam um valor de curtose **menor que 3**, ou seja, a curva da distribuição é mais \"achatada\". Isso significa que os dados estão bem distribuídos. Porém, na variável TotalCharges, isso é mais suave.\n",
    "\n",
    "Podemos comprovar as informações levantadas mostrando os gráficos de distribuição para cada variável."
   ]
  },
  {
   "cell_type": "code",
   "execution_count": 154,
   "id": "204f1246",
   "metadata": {},
   "outputs": [
    {
     "name": "stderr",
     "output_type": "stream",
     "text": [
      "No artists with labels found to put in legend.  Note that artists whose label start with an underscore are ignored when legend() is called with no argument.\n"
     ]
    },
    {
     "data": {
      "image/png": "[encoded data removed]",
      "text/plain": [
       "<Figure size 1000x800 with 3 Axes>"
      ]
     },
     "metadata": {},
     "output_type": "display_data"
    }
   ],
   "source": [
    "fig, axes = plt.subplots(3, 1, figsize = (10,8))\n",
    "\n",
    "sns.distplot(df['tenure'], ax = axes[0], bins = 30).set(xlabel=None, ylabel=None)\n",
    "axes[0].set_title(\"Tenure\")\n",
    "l1 = axes[0].axvline(df['tenure'].mean(), color='red', linestyle='--', label = 'média')\n",
    "\n",
    "\n",
    "sns.distplot(df['MonthlyCharges'], ax = axes[1], bins = 30).set(xlabel=None, ylabel=None)\n",
    "axes[1].set_title(\"Monthly Charges\")\n",
    "axes[1].axvline(df['MonthlyCharges'].mean(), color='red', linestyle='--')\n",
    "\n",
    "sns.distplot(df['TotalCharges'], ax = axes[2], bins = 30).set(xlabel=None, ylabel=None)\n",
    "axes[2].set_title(\"Total Charges\")\n",
    "axes[2].axvline(df['TotalCharges'].mean(), color='red', linestyle='--')\n",
    "\n",
    "fig.tight_layout()"
   ]
  },
  {
   "cell_type": "code",
   "execution_count": 150,
   "id": "6d7dc347",
   "metadata": {},
   "outputs": [],
   "source": [
    "l1.label = 'média'"
   ]
  },
  {
   "cell_type": "markdown",
   "id": "3c3070d1",
   "metadata": {},
   "source": [
    "## Etapa 4 - Model/Modelagem"
   ]
  },
  {
   "cell_type": "code",
   "execution_count": null,
   "id": "9a936728",
   "metadata": {},
   "outputs": [],
   "source": []
  },
  {
   "cell_type": "markdown",
   "id": "a410bd1a",
   "metadata": {},
   "source": [
    "## Etapa 5 - Interpret/Interpretação"
   ]
  },
  {
   "cell_type": "code",
   "execution_count": null,
   "id": "301d0e61",
   "metadata": {},
   "outputs": [],
   "source": []
  },
  {
   "cell_type": "code",
   "execution_count": null,
   "id": "1a7c8006",
   "metadata": {},
   "outputs": [],
   "source": []
  }
 ],
 "metadata": {
  "kernelspec": {
   "display_name": "Python 3 (ipykernel)",
   "language": "python",
   "name": "python3"
  },
  "language_info": {
   "codemirror_mode": {
    "name": "ipython",
    "version": 3
   },
   "file_extension": ".py",
   "mimetype": "text/x-python",
   "name": "python",
   "nbconvert_exporter": "python",
   "pygments_lexer": "ipython3",
   "version": "3.8.7"
  }
 },
 "nbformat": 4,
 "nbformat_minor": 5
}
